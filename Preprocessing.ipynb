{
 "cells": [
  {
   "cell_type": "markdown",
   "source": [
    "# Importing packages"
   ],
   "metadata": {}
  },
  {
   "cell_type": "code",
   "execution_count": 1,
   "source": [
    "import pandas as pd\r\n",
    "import seaborn as sns\r\n",
    "import numpy as np\r\n",
    "import scipy as sp\r\n",
    "import matplotlib.pyplot as plt\r\n",
    "from tqdm import tqdm\r\n",
    "import pickle\r\n",
    "import tensorflow as tf\r\n",
    "\r\n",
    "from sklearn.metrics import mean_squared_error, f1_score, accuracy_score, mean_absolute_error, r2_score,plot_confusion_matrix,classification_report\r\n",
    "from sklearn.model_selection import cross_val_score, train_test_split, KFold,GridSearchCV,RepeatedStratifiedKFold \r\n",
    "from sklearn.preprocessing import StandardScaler, LabelEncoder, OneHotEncoder, RobustScaler, OrdinalEncoder\r\n",
    "from sklearn.linear_model import LogisticRegression\r\n",
    "\r\n",
    "from sklearn.pipeline import Pipeline, FeatureUnion\r\n",
    "from sklearn.compose import ColumnTransformer\r\n",
    "from sklearn.impute import SimpleImputer\r\n",
    "\r\n",
    "from sklearn.feature_selection._base import SelectorMixin\r\n",
    "from sklearn.feature_extraction.text import _VectorizerMixin"
   ],
   "outputs": [],
   "metadata": {}
  },
  {
   "cell_type": "code",
   "execution_count": 2,
   "source": [
    "physical_devices = tf.config.list_physical_devices('GPU') \r\n",
    "tf.config.experimental.set_memory_growth(physical_devices[0], True)"
   ],
   "outputs": [],
   "metadata": {}
  },
  {
   "cell_type": "code",
   "execution_count": 3,
   "source": [
    "import warnings # Ignore alert messages\r\n",
    "warnings.simplefilter(action='ignore', category=FutureWarning)"
   ],
   "outputs": [],
   "metadata": {}
  },
  {
   "cell_type": "code",
   "execution_count": 4,
   "source": [
    "plt.rcParams.update({\r\n",
    "    'font.size': 18,\r\n",
    "    'axes.linewidth':2,\r\n",
    "    'axes.titlesize': 20,\r\n",
    "    'lines.linewidth' : 1.5,\r\n",
    "    'lines.markersize' : 10,\r\n",
    "    'figure.figsize': (25,10),\r\n",
    "    'xtick.labelsize': 15, \r\n",
    "    'ytick.labelsize': 15,\r\n",
    "    'font.family': 'Arial',\r\n",
    "    'legend.fontsize':14,\r\n",
    "    'axes.labelsize':20,\r\n",
    "    'axes.grid':True,\r\n",
    "})"
   ],
   "outputs": [],
   "metadata": {}
  },
  {
   "cell_type": "markdown",
   "source": [
    "# System description"
   ],
   "metadata": {}
  },
  {
   "cell_type": "markdown",
   "source": [
    "An experimental rig to demonstrate filter clogging failure has been constructed and consists of the following major components: \r\n",
    "\r\n",
    "- Pump,\r\n",
    "- Liquid tanks,\r\n",
    "- Tank stirrer,\r\n",
    "- Pulsation dampener,\r\n",
    "- Filter,\r\n",
    "- Pressure and flow rate sensors,\r\n",
    "- Data acquisition system connected to a computer.\r\n",
    "\r\n",
    "The experiment rig is a circuit composed of a pump flowing a liquid from a tank to another through a filter. The circuit is instrumented with sensors able to monitor the following variables:\r\n",
    "\r\n",
    "- Flow rate,\r\n",
    "- Liquid pressure before the filter \r\n",
    "- Liquid pressure after the filter. \r\n",
    "  \r\n",
    "The fluid injected in the system is a suspension composed by Polyetheretherketone (PEEK) particles and water with different concentrations. To eliminate possible pulsations in the flow the circuit includes a dampener. The figures below depict the employed experimental rig as well as the filter.\r\n",
    "\r\n",
    "![title](Figures/Experimental_rig.png) ![title](Figures/Filter.png)"
   ],
   "metadata": {}
  },
  {
   "cell_type": "markdown",
   "source": [
    "The main components applied to construct this experimental rig are the following:\r\n",
    "\r\n",
    "- **Pump:** Since the system will involve contaminants in the fluid, a peristaltic pump has been used as its mechanism is more tolerant to particles in the liquid. A Masterflex® SN-77921-70 (Drive: 07523-80, Two Heads: 77200-62, Tubing: L/S© 24) model peristaltic pump was installed in the system to maintain the flow of the prepared suspension. The pump is a positive displacement source, providing a flow rate ranging from 0.28 to 1700 ml/min (i.e. from 0.1 to 600 RPM).\r\n",
    "- \r\n",
    "- **Dampener:** The aim of using rigid tubing is to prevent the system from unwanted tube expansion due to pressure build up, which affects the actual pressure build up generated from filter clogging. A Masterflex® pulse dampener is installed on the downstream side of pump to eliminate any pulsation in flow.A majority of the system is furnished with a rigid polypropylene tubing, whereas the pump side is covered with a flexible Tygon® LFL pump tubing.\r\n",
    "\r\n",
    "- **Particles:** The suspension is composed of Polyetheretherketone (PEEK) particles and water. PEEK particles have a density (1.3g/cm3) close to that of room temperature water and have significantly low water absorption level (0.1% / 24 hours, ASTM D570). Having a low water absorption level will prevent particles expanding when they mix with water. Subsequently, closer density with water allows particles to suspend longer in water.\r\n",
    "\r\n",
    "- **Flow Rate Sensor:** A GMAG100 series electromagnetic flow meter (measurement range: 3 – 25,000 millilitres per minute) is installed in the system to keep track of the flow rate in the system.\r\n",
    "  \r\n",
    "- **Pressure Sensors:** Upstream and downstream Ashcroft® G2 pressure transducers (measurement range: 0 – 100 PSI) are installed in the system to capture the pressure drop (i.e. ‘ΔP’) across the filter, which is considered as the main indicator of clogging.\r\n",
    "  \r\n",
    "- **Filter:** the filter has a pore mesh size of 125µm."
   ],
   "metadata": {}
  },
  {
   "cell_type": "markdown",
   "source": [
    "# Objective\r\n",
    "\r\n",
    "1)  Predict when the filter is fully clogged;\r\n",
    "2)  Determine the remaining useful life (RUL) of the filter;\r\n",
    "3)  Assess model performance for decreasing dataset sizes (100%,75%,50%,25% of all experiments to create the model);\r\n",
    "4)  Assess the reliability of the RUL metric with a confidence interval (extra)"
   ],
   "metadata": {}
  },
  {
   "cell_type": "markdown",
   "source": [
    "# Importing datasets"
   ],
   "metadata": {}
  },
  {
   "cell_type": "code",
   "execution_count": null,
   "source": [],
   "outputs": [],
   "metadata": {}
  },
  {
   "cell_type": "code",
   "execution_count": null,
   "source": [],
   "outputs": [],
   "metadata": {}
  },
  {
   "cell_type": "code",
   "execution_count": null,
   "source": [],
   "outputs": [],
   "metadata": {}
  }
 ],
 "metadata": {
  "orig_nbformat": 4,
  "language_info": {
   "name": "python"
  }
 },
 "nbformat": 4,
 "nbformat_minor": 2
}